{
 "cells": [
  {
   "cell_type": "code",
   "execution_count": 1,
   "metadata": {
    "scrolled": true
   },
   "outputs": [
    {
     "name": "stderr",
     "output_type": "stream",
     "text": [
      "Using TensorFlow backend.\n"
     ]
    },
    {
     "name": "stdout",
     "output_type": "stream",
     "text": [
      "Downloading data from https://s3.amazonaws.com/img-datasets/mnist.npz\n",
      "10977280/11490434 [===========================>..] - ETA: 0s ETA: (50000, 28, 28) (50000,)\n"
     ]
    },
    {
     "data": {
      "image/png": "[encoded data removed]",
      "text/plain": [
       "<matplotlib.figure.Figure at 0x7febd419f5f8>"
      ]
     },
     "metadata": {},
     "output_type": "display_data"
    }
   ],
   "source": [
    "from preprocessed_mnist import load_dataset\n",
    "X_train_orig, y_train_orig, X_val_orig, y_val_orig, X_test_orig, y_test_orig = load_dataset()\n",
    "print(X_train_orig.shape, y_train_orig.shape)\n",
    "import matplotlib.pyplot as plt\n",
    "%matplotlib inline\n",
    "plt.imshow(X_train_orig[0], cmap=\"Greys\");"
   ]
  },
  {
   "cell_type": "code",
   "execution_count": 2,
   "metadata": {
    "collapsed": true
   },
   "outputs": [],
   "source": [
    "import tensorflow as tf\n",
    "import numpy as np"
   ]
  },
  {
   "cell_type": "markdown",
   "metadata": {},
   "source": [
    "# Having a better Understanding about The Data"
   ]
  },
  {
   "cell_type": "code",
   "execution_count": 3,
   "metadata": {
    "scrolled": true
   },
   "outputs": [
    {
     "name": "stdout",
     "output_type": "stream",
     "text": [
      "number of training examples = 50000\n",
      "number of test examples = 10000\n",
      "X_train shape: (50000, 28, 28)\n",
      "Y_train shape: (50000,)\n",
      "X_val shape: (10000, 28, 28)\n",
      "Y_val shape: (10000,)\n",
      "X_test shape: (10000, 28, 28)\n",
      "Y_test shape: (10000,)\n"
     ]
    }
   ],
   "source": [
    "print (\"number of training examples = \" + str(X_train_orig.shape[0]))\n",
    "print (\"number of test examples = \" + str(X_test_orig.shape[0]))\n",
    "print (\"X_train shape: \" + str(X_train_orig.shape))\n",
    "print (\"Y_train shape: \" + str(y_train_orig.shape))\n",
    "print (\"X_val shape: \" + str(X_val_orig.shape))\n",
    "print (\"Y_val shape: \" + str(y_val_orig.shape))\n",
    "print (\"X_test shape: \" + str(X_test_orig.shape))\n",
    "print (\"Y_test shape: \" + str(y_test_orig.shape))"
   ]
  },
  {
   "cell_type": "markdown",
   "metadata": {},
   "source": [
    "# 1. Prepare the Data set\n",
    "- flatten the X data to get a vector instead of a matrix\n",
    "- fit the label data (y) to have matrix of 10 classes in order to pass it in the softmax function"
   ]
  },
  {
   "cell_type": "markdown",
   "metadata": {},
   "source": [
    "###  1.1 Flatten the dataset"
   ]
  },
  {
   "cell_type": "code",
   "execution_count": 4,
   "metadata": {},
   "outputs": [
    {
     "name": "stdout",
     "output_type": "stream",
     "text": [
      "number of training examples = 50000\n",
      "number of test examples = 10000\n",
      "X_train shape: (50000, 784)\n",
      "X_val shape: (10000, 784)\n",
      "X_test shape: (10000, 784)\n"
     ]
    }
   ],
   "source": [
    "X_train_flatten = X_train_orig.reshape(X_train_orig.shape[0], -1)\n",
    "X_val_flatten = X_val_orig.reshape(X_val_orig.shape[0], -1)\n",
    "X_test_flatten = X_test_orig.reshape(X_test_orig.shape[0], -1)\n",
    "\n",
    "# Normalize image vectors\n",
    "X_train = X_train_flatten/255.\n",
    "X_test = X_test_flatten/255.\n",
    "X_val = X_val_flatten/255.\n",
    "\n",
    "\n",
    "print (\"number of training examples = \" + str(X_train.shape[0]))\n",
    "print (\"number of test examples = \" + str(X_test.shape[0]))\n",
    "print (\"X_train shape: \" + str(X_train.shape))\n",
    "print (\"X_val shape: \" + str(X_val.shape))\n",
    "print (\"X_test shape: \" + str(X_test.shape))"
   ]
  },
  {
   "cell_type": "markdown",
   "metadata": {},
   "source": [
    "**Note:**\n",
    "``size of an image vector (num_px * num_px = 28 * 28 * 1 = 784) # the image we have in a gray scale``"
   ]
  },
  {
   "cell_type": "markdown",
   "metadata": {},
   "source": [
    "### 1.2 Prepare the label data to fit into classes\n",
    "**Note: number of classes, C=10 from 0 till 9**\n",
    "\n",
    "\n",
    "As we can see from the data.\n",
    "The elements in the label vector y have values go from 0 to 9.\n",
    "Which refer to the hand digit number in the picture of the dataset.\n",
    "in order to have a softmax function for classification we need to have for each number of the inputdata a distictive column and its rows input are either 0 or 1.\n",
    "As an input we need a matrix with 10 columns and m rows. `Where m is the number of the examples data = X_train.shape[0]`"
   ]
  },
  {
   "cell_type": "code",
   "execution_count": 5,
   "metadata": {
    "scrolled": true
   },
   "outputs": [
    {
     "name": "stdout",
     "output_type": "stream",
     "text": [
      "The y_train data: [5 0 4 1 9 2 1 3 1 4 3 5 3 6 1 7 2 8 6 9 4 0 9 1 1 2 4 3 2 7]\n",
      "The y_test data: [7 2 1 0 4 1 4 9 5 9 0 6 9 0 1 5 9 7 3 4 9 6 6 5 4 0 7 4 0 1]\n",
      "The y_val data: [3 8 6 9 6 4 5 3 8 4 5 2 3 8 4 8 1 5 0 5 9 7 4 1 0 3 0 6 2 9]\n"
     ]
    }
   ],
   "source": [
    "# Visualize the Data\n",
    "print(\"The y_train data:\",y_train_orig[0:30])\n",
    "print(\"The y_test data:\",y_test_orig[0:30])\n",
    "print(\"The y_val data:\",y_val_orig[0:30])"
   ]
  },
  {
   "cell_type": "code",
   "execution_count": 6,
   "metadata": {},
   "outputs": [
    {
     "name": "stdout",
     "output_type": "stream",
     "text": [
      "Y_train shape: (50000, 10)\n",
      "Y_test shape: (10000, 10)\n",
      "Y_val shape: (10000, 10)\n"
     ]
    }
   ],
   "source": [
    "# convert to one-hot encooding\n",
    "import numpy as np\n",
    "y_train = np.eye(10)[y_train_orig]\n",
    "y_test = np.eye(10)[y_test_orig]\n",
    "y_val = np.eye(10)[y_val_orig]\n",
    "\n",
    "print (\"Y_train shape: \" + str(y_train.shape))\n",
    "print (\"Y_test shape: \" + str(y_test.shape))\n",
    "print (\"Y_val shape: \" + str(y_val.shape))"
   ]
  },
  {
   "cell_type": "markdown",
   "metadata": {},
   "source": [
    "# 2. Build a Neural Network.\n"
   ]
  },
  {
   "cell_type": "markdown",
   "metadata": {},
   "source": [
    "**Goals**    \n",
    "- Code a deep (with at least 1 hidden layer) neural network in tensorflow\n",
    "- Fit it on the train dataset, estimate quality on the test dataset\n",
    "- Plot the train loss and test loss as a function of the training iteration number \n",
    "\n",
    "**[bonus score]** If you've already beaten logistic regression with a two-layer net, but enthusiasm still ain't gone, you can try improving the test accuracy even further! The milestones would be 95%/97.5%/98.5% accuracy on the test set.\n",
    "\n",
    "**The model** is *LINEAR -> RELU -> LINEAR -> SOFTMAX*. The SIGMOID output layer has been converted to a SOFTMAX. A SOFTMAX layer generalizes SIGMOID to when there are more than two classes. \n",
    "\n",
    "**Don't forget to shuffle the data**"
   ]
  },
  {
   "cell_type": "markdown",
   "metadata": {},
   "source": [
    "### 2.1 Create Placeholders"
   ]
  },
  {
   "cell_type": "code",
   "execution_count": 7,
   "metadata": {
    "collapsed": true
   },
   "outputs": [],
   "source": [
    "def create_placeholders(n_x, n_y):\n",
    "    \"\"\"\n",
    "    Creates the placeholders for the tensorflow session.\n",
    "    \n",
    "    Arguments:\n",
    "    n_x -- scalar, size of an image vector (num_px * num_px = 28 * 28 * 1 = 784) # the image we have in a gray scale\n",
    "    n_y -- scalar, number of classes (from 0 to 9, so -> 10)\n",
    "    \n",
    "    Returns:\n",
    "    X -- placeholder for the data input, of shape [n_x, None] and dtype \"float64\"\n",
    "    Y -- placeholder for the input labels, of shape [n_y, None] and dtype \"float64\"\n",
    "    \"\"\"\n",
    "    # Placeholders for the input data\n",
    "    # input_X = tf.placeholder(...)\n",
    "    # input_y = tf.placeholder(...)\n",
    "    X = tf.placeholder(tf.float64, [ None, n_x],name = \"X\")\n",
    "    Y = tf.placeholder(tf.float64, [None, n_y],name = \"Y\")\n",
    "    \n",
    "    return X,Y"
   ]
  },
  {
   "cell_type": "code",
   "execution_count": 8,
   "metadata": {},
   "outputs": [
    {
     "name": "stdout",
     "output_type": "stream",
     "text": [
      "X_train shape: (50000, 784)\n",
      "Y_train shape: (50000, 10)\n"
     ]
    }
   ],
   "source": [
    "# test the placeholder function\n",
    "X, Y = create_placeholders(784, 10)\n",
    "print (\"X_train shape: \" + str(X_train.shape))\n",
    "print (\"Y_train shape: \" + str(y_train.shape))"
   ]
  },
  {
   "cell_type": "markdown",
   "metadata": {},
   "source": [
    "### 2.2 Create Variables"
   ]
  },
  {
   "cell_type": "code",
   "execution_count": 9,
   "metadata": {
    "collapsed": true
   },
   "outputs": [],
   "source": [
    "def initialize_parameters(n_x = 784, num_neurons = 50,num_classes = 10):\n",
    "    \"\"\"\n",
    "    Initializes parameters to build a neural network with tensorflow.\n",
    "    Arguments:\n",
    "    n_x -- size of an image vector (num_px * num_px = 28 * 28 * 1 = 784)\n",
    "    The shapes are:\n",
    "                        W1 : [50, 784]\n",
    "                        b1 : [50, 1]\n",
    "                        W2 : [10, 50]\n",
    "                        b2 : [10, 1]\n",
    "    \n",
    "    Returns:\n",
    "    parameters -- a dictionary of tensors containing W1, b1, W2, b2\n",
    "    \"\"\"\n",
    "        \n",
    "    weights1 = tf.get_variable(\"weights1\", [n_x,num_neurons], initializer = tf.contrib.layers.xavier_initializer(dtype=tf.float64),dtype=tf.float64) #weights for the 1st layer\n",
    "    bias1 = tf.get_variable(\"bias1\", [num_neurons], initializer = tf.zeros_initializer(dtype=tf.float64),dtype=tf.float64) #biases for the 1st layer\n",
    "    weights2 = tf.get_variable(\"weights2\", [num_neurons,num_classes], initializer = tf.contrib.layers.xavier_initializer(dtype=tf.float64),dtype=tf.float64) #weights for the 2nd layer\n",
    "    bias2 = tf.get_variable(\"bias2\", [num_classes], initializer = tf.zeros_initializer(dtype=tf.float64),dtype=tf.float64) #biases for the 2nd layer\n",
    "\n",
    "    parameters = {\"weights1\": weights1,\n",
    "                  \"bias1\": bias1,\n",
    "                  \"weights2\": weights2,\n",
    "                  \"bias2\": bias2,}\n",
    "    \n",
    "    return parameters"
   ]
  },
  {
   "cell_type": "code",
   "execution_count": 13,
   "metadata": {},
   "outputs": [
    {
     "name": "stdout",
     "output_type": "stream",
     "text": [
      "W1 = <tf.Variable 'weights1:0' shape=(784, 50) dtype=float64_ref>\n",
      "b1 = <tf.Variable 'bias1:0' shape=(50, 1) dtype=float64_ref>\n",
      "W2 = <tf.Variable 'weights2:0' shape=(50, 10) dtype=float64_ref>\n",
      "b2 = <tf.Variable 'bias2:0' shape=(1, 10) dtype=float64_ref>\n"
     ]
    }
   ],
   "source": [
    "# Test the parameters function\n",
    "tf.reset_default_graph()\n",
    "with tf.Session() as sess:\n",
    "    parameters = initialize_parameters()\n",
    "    print(\"W1 = \" + str(parameters[\"weights1\"]))\n",
    "    print(\"b1 = \" + str(parameters[\"bias1\"]))\n",
    "    print(\"W2 = \" + str(parameters[\"weights2\"]))\n",
    "    print(\"b2 = \" + str(parameters[\"bias2\"]))"
   ]
  },
  {
   "cell_type": "markdown",
   "metadata": {},
   "source": [
    "### 2.3 - Forward propagation"
   ]
  },
  {
   "cell_type": "code",
   "execution_count": 10,
   "metadata": {
    "collapsed": true
   },
   "outputs": [],
   "source": [
    "def forward_propagation(X_train, parameters):\n",
    "    \"\"\"\n",
    "    Implements the forward propagation for the model: LINEAR -> RELU -> LINEAR -> SOFTMAX\n",
    "    \n",
    "    Arguments:\n",
    "    X -- input dataset placeholder, of shape (input size, number of examples)\n",
    "    parameters -- python dictionary containing your parameters \"weights1\", \"bias1\", \"weights2\", \"bias2\"\n",
    "                  the shapes are given in initialize_parameters\n",
    "\n",
    "    Returns:\n",
    "    pred_y -- the output of the last (the prediction) LINEAR unit\n",
    "    \"\"\"\n",
    "    \n",
    "    # Retrieve the parameters from the dictionary \"parameters\" \n",
    "    W1 = parameters['weights1']\n",
    "    b1 = parameters['bias1']\n",
    "    W2 = parameters['weights2']\n",
    "    b2 = parameters['bias2']\n",
    "\n",
    "    \n",
    "    Z1 = tf.add(tf.matmul(X_train,W1),b1)                      \n",
    "    A1 = tf.nn.relu(Z1)                                   \n",
    "    pred_y = tf.add(tf.matmul(A1,W2),b2)                       \n",
    "    \n",
    "    \n",
    "    return pred_y"
   ]
  },
  {
   "cell_type": "code",
   "execution_count": 18,
   "metadata": {},
   "outputs": [
    {
     "name": "stdout",
     "output_type": "stream",
     "text": [
      "pred_y = Tensor(\"Add_1:0\", shape=(50, 10), dtype=float64)\n"
     ]
    }
   ],
   "source": [
    "# test the forward progagation function\n",
    "tf.reset_default_graph()\n",
    "\n",
    "with tf.Session() as sess:\n",
    "    X, Y = create_placeholders(X_train.shape[1], 10)\n",
    "    parameters = initialize_parameters()\n",
    "    pred_y = forward_propagation(X, parameters)\n",
    "    print(\"pred_y = \" + str(pred_y))"
   ]
  },
  {
   "cell_type": "markdown",
   "metadata": {},
   "source": [
    "### 2.4 Compute the Cost"
   ]
  },
  {
   "cell_type": "code",
   "execution_count": 11,
   "metadata": {
    "collapsed": true
   },
   "outputs": [],
   "source": [
    "def compute_cost(pred_y, Y):\n",
    "    \"\"\"\n",
    "    Computes the cost\n",
    "    \n",
    "    Arguments:\n",
    "    Z2 -- output of forward propagation (output of the last LINEAR unit), of shape (10, number of examples)\n",
    "    Y -- \"true\" labels vector placeholder, same shape as Z2\n",
    "    \n",
    "    Returns:\n",
    "    cost - Tensor of the cost function\n",
    "    \"\"\"\n",
    "    \n",
    "    # to fit the tensorflow requirement for tf.nn.softmax_cross_entropy_with_logits(...,...)\n",
    "    logits = tf.transpose(pred_y)\n",
    "    labels = tf.transpose(Y)\n",
    "    \n",
    "    ### START CODE HERE ### (1 line of code)\n",
    "    cost = tf.reduce_mean(tf.nn.softmax_cross_entropy_with_logits(logits = pred_y, labels = Y))\n",
    "    ### END CODE HERE ###\n",
    "    \n",
    "    return cost"
   ]
  },
  {
   "cell_type": "code",
   "execution_count": 20,
   "metadata": {},
   "outputs": [
    {
     "name": "stdout",
     "output_type": "stream",
     "text": [
      "cost = Tensor(\"Mean:0\", shape=(), dtype=float64)\n"
     ]
    }
   ],
   "source": [
    "# test the cost function\n",
    "tf.reset_default_graph()\n",
    "\n",
    "with tf.Session() as sess:\n",
    "    X, Y = create_placeholders(784, 10)\n",
    "    parameters = initialize_parameters()\n",
    "    pred_y = forward_propagation(X, parameters)\n",
    "    cost = compute_cost(pred_y, Y)\n",
    "    print(\"cost = \" + str(cost))"
   ]
  },
  {
   "cell_type": "markdown",
   "metadata": {},
   "source": [
    "### 2.5 Backward propagation & parameters update\n",
    "\n",
    "- probably better to use STOCHASTIC gradient descent (minibatch)\n",
    "- sample should probably be shuffled (or use random subsamples on each iteration)"
   ]
  },
  {
   "cell_type": "markdown",
   "metadata": {},
   "source": [
    "### 2.6 Building the model"
   ]
  },
  {
   "cell_type": "code",
   "execution_count": 12,
   "metadata": {
    "collapsed": true
   },
   "outputs": [],
   "source": [
    "from tensorflow.python.framework import ops\n",
    "import matplotlib.pyplot as plt"
   ]
  },
  {
   "cell_type": "code",
   "execution_count": 21,
   "metadata": {
    "collapsed": true
   },
   "outputs": [],
   "source": [
    "ops.reset_default_graph()                         # to be able to rerun the model without overwriting tf variables\n",
    "m = X_train.shape[0]                              # m : number of examples in the train set)\n",
    "n_x = X_train.shape[1]                            # n_x: input size, \n",
    "n_y = y_train.shape[1]                            # n_y : output size\n",
    "train_costs = []                                  # To keep track of the cost\n",
    "test_costs = []\n",
    "\n",
    "num_iterations = 150\n",
    "batch_size = 32\n",
    "\n",
    "learning_rate = 0.0005\n",
    "\n",
    "# Create Placeholders of shape (n_x, n_y)\n",
    "X, Y = create_placeholders(n_x, n_y)\n",
    "    \n",
    "# Initialize parameters\n",
    "parameters = initialize_parameters()\n",
    "   \n",
    "# Forward propagation: Build the forward propagation in the tensorflow graph\n",
    "pred_y = forward_propagation(X, parameters)\n",
    " \n",
    "# Cost function: Add cost function to tensorflow graph\n",
    "cost = compute_cost(pred_y, Y)\n",
    "    \n",
    "# Backpropagation: Define the tensorflow optimizer. Using an AdamOptimizer.\n",
    "optimizer = tf.train.AdamOptimizer(learning_rate=learning_rate).minimize(cost)\n",
    "    \n",
    "# Initialize all the variables\n",
    "init = tf.global_variables_initializer()    "
   ]
  },
  {
   "cell_type": "code",
   "execution_count": 22,
   "metadata": {},
   "outputs": [
    {
     "name": "stdout",
     "output_type": "stream",
     "text": [
      "cost after 10 iterations: 0.36634869559\n",
      "cost after 20 iterations: 0.297083655429\n",
      "cost after 30 iterations: 0.264567799946\n",
      "cost after 40 iterations: 0.241661708002\n",
      "cost after 50 iterations: 0.222630134644\n",
      "cost after 60 iterations: 0.205748932664\n",
      "cost after 70 iterations: 0.190323736276\n",
      "cost after 80 iterations: 0.176470269573\n",
      "cost after 90 iterations: 0.164373538249\n",
      "cost after 100 iterations: 0.153667278999\n",
      "cost after 110 iterations: 0.143933405089\n",
      "cost after 120 iterations: 0.135259031347\n",
      "cost after 130 iterations: 0.127467408414\n",
      "cost after 140 iterations: 0.120350087471\n",
      "cost after 150 iterations: 0.113859119916\n"
     ]
    },
    {
     "data": {
      "image/png": "[encoded data removed]",
      "text/plain": [
       "<matplotlib.figure.Figure at 0x7feb05831320>"
      ]
     },
     "metadata": {},
     "output_type": "display_data"
    },
    {
     "name": "stdout",
     "output_type": "stream",
     "text": [
      "Train Accuracy: 0.9676\n",
      "Test Accuracy: 0.9593\n",
      "Validation Accuracy: 0.9622\n"
     ]
    }
   ],
   "source": [
    "with tf.Session() as sess:\n",
    "    sess.run(init)\n",
    "     \n",
    "    for iteration in range(num_iterations):\n",
    "        for i in range(0, m, batch_size):\n",
    "            sess.run(optimizer, feed_dict={X:X_train[i:i+batch_size], Y:y_train[i: i+batch_size]})\n",
    "        train_costs.append(sess.run(cost, feed_dict={X:X_train, Y:y_train}))\n",
    "        test_costs.append(sess.run(cost, feed_dict={X:X_test, Y:y_test}))\n",
    "        if iteration%10 == 9:\n",
    "            print(\"cost after \" + str(iteration+1)+ \" iterations: \"+ str(train_costs[-1]))\n",
    "    \n",
    "    iterations = list(range(num_iterations))\n",
    "    plt.plot(iterations, train_costs, label='Train')\n",
    "    plt.plot(iterations, test_costs, label='test')\n",
    "    plt.ylabel('train cost')\n",
    "    plt.xlabel('iterations')\n",
    "    plt.show()\n",
    "    \n",
    "    # Calculate the correct predictions\n",
    "    predict_op = tf.argmax(pred_y, 1)\n",
    "    correct_prediction = tf.equal(predict_op, tf.argmax(Y, 1))\n",
    "\n",
    "    # Calculate accuracy on the test set\n",
    "    accuracy = tf.reduce_mean(tf.cast(correct_prediction, \"float\"))\n",
    "\n",
    "    print (\"Train Accuracy:\", accuracy.eval({X: X_train, Y: y_train}))\n",
    "    print (\"Test Accuracy:\", accuracy.eval({X: X_test, Y: y_test}))\n",
    "    print (\"Validation Accuracy:\", accuracy.eval({X: X_val, Y: y_val}))\n",
    "   "
   ]
  },
  {
   "cell_type": "code",
   "execution_count": null,
   "metadata": {
    "collapsed": true
   },
   "outputs": [],
   "source": []
  },
  {
   "cell_type": "code",
   "execution_count": null,
   "metadata": {
    "collapsed": true
   },
   "outputs": [],
   "source": []
  }
 ],
 "metadata": {
  "kernelspec": {
   "display_name": "Python 3",
   "language": "python",
   "name": "python3"
  },
  "language_info": {
   "codemirror_mode": {
    "name": "ipython",
    "version": 3
   },
   "file_extension": ".py",
   "mimetype": "text/x-python",
   "name": "python",
   "nbconvert_exporter": "python",
   "pygments_lexer": "ipython3",
   "version": "3.6.0"
  }
 },
 "nbformat": 4,
 "nbformat_minor": 2
}
